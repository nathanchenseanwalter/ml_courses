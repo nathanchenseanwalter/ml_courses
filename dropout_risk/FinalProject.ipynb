{
 "cells": [
  {
   "cell_type": "markdown",
   "metadata": {},
   "source": [
    "# Predicting Undergraduate Dropout \n",
    "Wonjoon Choi, Nathaniel Chen\n"
   ]
  },
  {
   "cell_type": "markdown",
   "metadata": {},
   "source": [
    "## What is the problem? \n",
    "The United States experiences a severe college dropout rate every year. Only 41% of students graduate after four years without delay (ThinkImpact, 2021). Educational failure is a major social issue that impacts the whole society, causing $3.8 Billion loss annually. \n",
    "\n",
    "On the individual level, people with only a high school degree are approximately three times more likely to live in poverty when compared to people with a bachelor’s degree (EDI, 2021). Societally, ​​a lower education level can lead to problems with economic growth, employment, and productivity. Thus, it is important to prevent or aid students in need ahead of time so that endangered students can make their way to graduation. \n"
   ]
  },
  {
   "cell_type": "markdown",
   "metadata": {},
   "source": [
    "## Why is it interesting? \n",
    "Following the data analyses, we see there are certain traits that are commonly observed in dropout students. Perhaps we can use these traits to predict students at higher risk, making academic/financial aids more accessible for them. \n",
    "* 30% of College drop out in the first year\n",
    "* 40% of College dropouts have parents who did not complete higher education\n",
    "* only 8 to 10% of Foster kids graduate from college\n",
    "* 51% of college dropouts drop out because of the lack of money. \n",
    "* 5% of students 19 years or younger drop out.\n",
    "* For students between the age of 20 and 23, 51% drop out.\n",
    "* 31% of African American students, and 18% of Europian  students drop out\n"
   ]
  },
  {
   "cell_type": "markdown",
   "metadata": {},
   "source": [
    "## What has been done in the literature? \n",
    "\n",
    "Learning Analytics (LA) & Educational Data Mining (EDM) is a study of improving education They Gained popularity in recent years for multiple reasons. \n",
    "1. Data driven Approach were already shown to be effective in business analytics (Daradoumis et.al, 2010). So why not in employ in Education?\n",
    "2. Collection of refined educational data is relatively easy \n",
    "3. Universities are always under pressure to reduce costs and increase income by reducing dropout rates and improving course quality.\n",
    "\n",
    "These two disciplines are very similar in nature and getting combined, but in general, LA deals more with applications, and EDM focuses more on techniques and methodologies. So far, EDM methods have been focusing on exploiting classical ML methods. But why not try Neural Networks with recent advancements? \n"
   ]
  },
  {
   "cell_type": "markdown",
   "metadata": {
    "id": "44rwx1HbdphM"
   },
   "source": [
    "### Data & Library Import"
   ]
  },
  {
   "cell_type": "code",
   "execution_count": 1,
   "metadata": {
    "executionInfo": {
     "elapsed": 13004,
     "status": "ok",
     "timestamp": 1678043449918,
     "user": {
      "displayName": "NATHANIEL CHEN",
      "userId": "03715658853627263817"
     },
     "user_tz": 480
    },
    "id": "huX6uSbQB2-v"
   },
   "outputs": [],
   "source": [
    "# array manipulation\n",
    "import numpy as np\n",
    "import pandas as pd\n",
    "\n",
    "# plotting\n",
    "import seaborn as sns\n",
    "import matplotlib.pyplot as plt\n",
    "\n",
    "# general machine learning\n",
    "from sklearn import preprocessing\n",
    "from sklearn.ensemble import RandomForestClassifier\n",
    "from sklearn.ensemble import ExtraTreesClassifier\n",
    "from sklearn.svm import SVC\n",
    "from sklearn.feature_selection import mutual_info_classif\n",
    "from sklearn.model_selection import train_test_split\n",
    "from sklearn.model_selection import cross_val_score\n",
    "from sklearn.model_selection import GridSearchCV\n",
    "from sklearn.neural_network import MLPClassifier\n",
    "from sklearn.metrics import accuracy_score\n",
    "from sklearn.metrics import confusion_matrix\n",
    "\n",
    "# neural networks\n",
    "import torch\n",
    "from torch.utils.data import Dataset, DataLoader\n",
    "import torch.nn as nn"
   ]
  },
  {
   "cell_type": "markdown",
   "metadata": {},
   "source": [
    "We will be attempting to predict if a student will drop out of college based on his/her data profile. Knowing this is important because it will allow us to identify high risk individuals such that we can allocate more resouces to them or take time to focus on their education/habits."
   ]
  },
  {
   "cell_type": "code",
   "execution_count": 2,
   "metadata": {
    "colab": {
     "base_uri": "https://localhost:8080/",
     "height": 328
    },
    "executionInfo": {
     "elapsed": 245,
     "status": "error",
     "timestamp": 1678043972409,
     "user": {
      "displayName": "NATHANIEL CHEN",
      "userId": "03715658853627263817"
     },
     "user_tz": 480
    },
    "id": "uwEkeDalOhGK",
    "outputId": "9cc064ce-7b85-4487-e8e2-6ed14d466c97"
   },
   "outputs": [
    {
     "data": {
      "text/html": [
       "<div>\n",
       "<style scoped>\n",
       "    .dataframe tbody tr th:only-of-type {\n",
       "        vertical-align: middle;\n",
       "    }\n",
       "\n",
       "    .dataframe tbody tr th {\n",
       "        vertical-align: top;\n",
       "    }\n",
       "\n",
       "    .dataframe thead th {\n",
       "        text-align: right;\n",
       "    }\n",
       "</style>\n",
       "<table border=\"1\" class=\"dataframe\">\n",
       "  <thead>\n",
       "    <tr style=\"text-align: right;\">\n",
       "      <th></th>\n",
       "      <th>Marital status</th>\n",
       "      <th>Application mode</th>\n",
       "      <th>Application order</th>\n",
       "      <th>Course</th>\n",
       "      <th>Daytime/evening attendance</th>\n",
       "      <th>Previous qualification</th>\n",
       "      <th>Nacionality</th>\n",
       "      <th>Mother's qualification</th>\n",
       "      <th>Father's qualification</th>\n",
       "      <th>Mother's occupation</th>\n",
       "      <th>...</th>\n",
       "      <th>Curricular units 2nd sem (credited)</th>\n",
       "      <th>Curricular units 2nd sem (enrolled)</th>\n",
       "      <th>Curricular units 2nd sem (evaluations)</th>\n",
       "      <th>Curricular units 2nd sem (approved)</th>\n",
       "      <th>Curricular units 2nd sem (grade)</th>\n",
       "      <th>Curricular units 2nd sem (without evaluations)</th>\n",
       "      <th>Unemployment rate</th>\n",
       "      <th>Inflation rate</th>\n",
       "      <th>GDP</th>\n",
       "      <th>Target</th>\n",
       "    </tr>\n",
       "  </thead>\n",
       "  <tbody>\n",
       "    <tr>\n",
       "      <th>0</th>\n",
       "      <td>1</td>\n",
       "      <td>8</td>\n",
       "      <td>5</td>\n",
       "      <td>2</td>\n",
       "      <td>1</td>\n",
       "      <td>1</td>\n",
       "      <td>1</td>\n",
       "      <td>13</td>\n",
       "      <td>10</td>\n",
       "      <td>6</td>\n",
       "      <td>...</td>\n",
       "      <td>0</td>\n",
       "      <td>0</td>\n",
       "      <td>0</td>\n",
       "      <td>0</td>\n",
       "      <td>0.000000</td>\n",
       "      <td>0</td>\n",
       "      <td>10.8</td>\n",
       "      <td>1.4</td>\n",
       "      <td>1.74</td>\n",
       "      <td>Dropout</td>\n",
       "    </tr>\n",
       "    <tr>\n",
       "      <th>1</th>\n",
       "      <td>1</td>\n",
       "      <td>6</td>\n",
       "      <td>1</td>\n",
       "      <td>11</td>\n",
       "      <td>1</td>\n",
       "      <td>1</td>\n",
       "      <td>1</td>\n",
       "      <td>1</td>\n",
       "      <td>3</td>\n",
       "      <td>4</td>\n",
       "      <td>...</td>\n",
       "      <td>0</td>\n",
       "      <td>6</td>\n",
       "      <td>6</td>\n",
       "      <td>6</td>\n",
       "      <td>13.666667</td>\n",
       "      <td>0</td>\n",
       "      <td>13.9</td>\n",
       "      <td>-0.3</td>\n",
       "      <td>0.79</td>\n",
       "      <td>Graduate</td>\n",
       "    </tr>\n",
       "    <tr>\n",
       "      <th>2</th>\n",
       "      <td>1</td>\n",
       "      <td>1</td>\n",
       "      <td>5</td>\n",
       "      <td>5</td>\n",
       "      <td>1</td>\n",
       "      <td>1</td>\n",
       "      <td>1</td>\n",
       "      <td>22</td>\n",
       "      <td>27</td>\n",
       "      <td>10</td>\n",
       "      <td>...</td>\n",
       "      <td>0</td>\n",
       "      <td>6</td>\n",
       "      <td>0</td>\n",
       "      <td>0</td>\n",
       "      <td>0.000000</td>\n",
       "      <td>0</td>\n",
       "      <td>10.8</td>\n",
       "      <td>1.4</td>\n",
       "      <td>1.74</td>\n",
       "      <td>Dropout</td>\n",
       "    </tr>\n",
       "    <tr>\n",
       "      <th>3</th>\n",
       "      <td>1</td>\n",
       "      <td>8</td>\n",
       "      <td>2</td>\n",
       "      <td>15</td>\n",
       "      <td>1</td>\n",
       "      <td>1</td>\n",
       "      <td>1</td>\n",
       "      <td>23</td>\n",
       "      <td>27</td>\n",
       "      <td>6</td>\n",
       "      <td>...</td>\n",
       "      <td>0</td>\n",
       "      <td>6</td>\n",
       "      <td>10</td>\n",
       "      <td>5</td>\n",
       "      <td>12.400000</td>\n",
       "      <td>0</td>\n",
       "      <td>9.4</td>\n",
       "      <td>-0.8</td>\n",
       "      <td>-3.12</td>\n",
       "      <td>Graduate</td>\n",
       "    </tr>\n",
       "    <tr>\n",
       "      <th>4</th>\n",
       "      <td>2</td>\n",
       "      <td>12</td>\n",
       "      <td>1</td>\n",
       "      <td>3</td>\n",
       "      <td>0</td>\n",
       "      <td>1</td>\n",
       "      <td>1</td>\n",
       "      <td>22</td>\n",
       "      <td>28</td>\n",
       "      <td>10</td>\n",
       "      <td>...</td>\n",
       "      <td>0</td>\n",
       "      <td>6</td>\n",
       "      <td>6</td>\n",
       "      <td>6</td>\n",
       "      <td>13.000000</td>\n",
       "      <td>0</td>\n",
       "      <td>13.9</td>\n",
       "      <td>-0.3</td>\n",
       "      <td>0.79</td>\n",
       "      <td>Graduate</td>\n",
       "    </tr>\n",
       "  </tbody>\n",
       "</table>\n",
       "<p>5 rows × 35 columns</p>\n",
       "</div>"
      ],
      "text/plain": [
       "   Marital status  Application mode  Application order  Course  \\\n",
       "0               1                 8                  5       2   \n",
       "1               1                 6                  1      11   \n",
       "2               1                 1                  5       5   \n",
       "3               1                 8                  2      15   \n",
       "4               2                12                  1       3   \n",
       "\n",
       "   Daytime/evening attendance  Previous qualification  Nacionality  \\\n",
       "0                           1                       1            1   \n",
       "1                           1                       1            1   \n",
       "2                           1                       1            1   \n",
       "3                           1                       1            1   \n",
       "4                           0                       1            1   \n",
       "\n",
       "   Mother's qualification  Father's qualification  Mother's occupation  ...  \\\n",
       "0                      13                      10                    6  ...   \n",
       "1                       1                       3                    4  ...   \n",
       "2                      22                      27                   10  ...   \n",
       "3                      23                      27                    6  ...   \n",
       "4                      22                      28                   10  ...   \n",
       "\n",
       "   Curricular units 2nd sem (credited)  Curricular units 2nd sem (enrolled)  \\\n",
       "0                                    0                                    0   \n",
       "1                                    0                                    6   \n",
       "2                                    0                                    6   \n",
       "3                                    0                                    6   \n",
       "4                                    0                                    6   \n",
       "\n",
       "   Curricular units 2nd sem (evaluations)  \\\n",
       "0                                       0   \n",
       "1                                       6   \n",
       "2                                       0   \n",
       "3                                      10   \n",
       "4                                       6   \n",
       "\n",
       "   Curricular units 2nd sem (approved)  Curricular units 2nd sem (grade)  \\\n",
       "0                                    0                          0.000000   \n",
       "1                                    6                         13.666667   \n",
       "2                                    0                          0.000000   \n",
       "3                                    5                         12.400000   \n",
       "4                                    6                         13.000000   \n",
       "\n",
       "   Curricular units 2nd sem (without evaluations)  Unemployment rate  \\\n",
       "0                                               0               10.8   \n",
       "1                                               0               13.9   \n",
       "2                                               0               10.8   \n",
       "3                                               0                9.4   \n",
       "4                                               0               13.9   \n",
       "\n",
       "   Inflation rate   GDP    Target  \n",
       "0             1.4  1.74   Dropout  \n",
       "1            -0.3  0.79  Graduate  \n",
       "2             1.4  1.74   Dropout  \n",
       "3            -0.8 -3.12  Graduate  \n",
       "4            -0.3  0.79  Graduate  \n",
       "\n",
       "[5 rows x 35 columns]"
      ]
     },
     "execution_count": 2,
     "metadata": {},
     "output_type": "execute_result"
    }
   ],
   "source": [
    "data = pd.read_csv(\"dataset.csv\",delimiter=';')\n",
    "data.head()"
   ]
  },
  {
   "cell_type": "markdown",
   "metadata": {
    "id": "FoDIAS86d0h7"
   },
   "source": [
    "### Initial Data Processing\n",
    "\n",
    "Step by step rundown of how data is processed such that it can be read into a neural network"
   ]
  },
  {
   "cell_type": "code",
   "execution_count": 3,
   "metadata": {},
   "outputs": [],
   "source": [
    "# fix label name\n",
    "data = data.rename(columns={'Nacionality':'Nationality'})"
   ]
  },
  {
   "cell_type": "code",
   "execution_count": 4,
   "metadata": {
    "executionInfo": {
     "elapsed": 10,
     "status": "aborted",
     "timestamp": 1678043473343,
     "user": {
      "displayName": "NATHANIEL CHEN",
      "userId": "03715658853627263817"
     },
     "user_tz": 480
    },
    "id": "K6Lindf_R1v4"
   },
   "outputs": [],
   "source": [
    "# change target to numbers\n",
    "le = preprocessing.LabelEncoder()\n",
    "data['Target'] = le.fit_transform(data['Target']) # {0 : Drop out , 1 : Enrolled , 2 : Graduate}\n",
    "\n",
    "# seperate features from target\n",
    "features = data.drop(columns=[\"Target\"])\n",
    "target = data.Target"
   ]
  },
  {
   "cell_type": "markdown",
   "metadata": {},
   "source": [
    "Intitially we will naively treat this dataset as all the inputs given and if this is enough to give us a sense of students at risk of drop-out."
   ]
  },
  {
   "cell_type": "code",
   "execution_count": 5,
   "metadata": {
    "executionInfo": {
     "elapsed": 2,
     "status": "aborted",
     "timestamp": 1678043473650,
     "user": {
      "displayName": "NATHANIEL CHEN",
      "userId": "03715658853627263817"
     },
     "user_tz": 480
    },
    "id": "wSiDq8G5X02g"
   },
   "outputs": [],
   "source": [
    "# split into training and testing sets\n",
    "X_train, X_test, y_train, y_test = train_test_split(\n",
    "  features, target, test_size=0.33)\n",
    "\n",
    "# convert sets into tensor-readable arrays\n",
    "X_train_np = X_train.values\n",
    "X_test_np = X_test.values\n",
    "y_train_np = y_train.values\n",
    "y_test_np = y_test.values"
   ]
  },
  {
   "cell_type": "code",
   "execution_count": 6,
   "metadata": {},
   "outputs": [],
   "source": [
    "class Data(Dataset):\n",
    "  def __init__(self, X_train, y_train):\n",
    "    self.X = torch.from_numpy(X_train.astype(np.float32)) # needs to be float\n",
    "    self.y = torch.from_numpy(y_train).type(torch.LongTensor) # needs to be Long\n",
    "    self.len = self.X.shape[0]\n",
    "  \n",
    "  def __getitem__(self, index):\n",
    "    return self.X[index], self.y[index]\n",
    "  def __len__(self):\n",
    "    return self.len"
   ]
  },
  {
   "cell_type": "code",
   "execution_count": 7,
   "metadata": {},
   "outputs": [],
   "source": [
    "batch_size = 50\n",
    "traindata = Data(X_train_np,y_train_np)\n",
    "trainloader = DataLoader(traindata, batch_size=batch_size, shuffle=True, num_workers=0) # split data into smaller groups"
   ]
  },
  {
   "cell_type": "code",
   "execution_count": 8,
   "metadata": {
    "id": "lDPo88UINISh"
   },
   "outputs": [],
   "source": [
    "# Network class parameters\n",
    "input_dim = len(features.columns)\n",
    "output_dim = 3\n",
    "hidden = (input_dim + output_dim) // 2 # should be between input and output dimensions"
   ]
  },
  {
   "cell_type": "markdown",
   "metadata": {},
   "source": [
    "A perceptron will be initially used. Leaky ReLU will be used as the activation function since it's generally reliable and won't die."
   ]
  },
  {
   "cell_type": "code",
   "execution_count": 9,
   "metadata": {
    "id": "--3Kkdiramc-"
   },
   "outputs": [],
   "source": [
    "class Network(nn.Module):\n",
    "  def __init__(self):\n",
    "    super().__init__()\n",
    "    self.leakyrelu = nn.LeakyReLU(0.001)\n",
    "    self.linear1 = nn.Linear(input_dim,hidden)\n",
    "    self.linear2 = nn.Linear(hidden,output_dim)\n",
    "\n",
    "  def forward(self, x):\n",
    "    x = self.leakyrelu(self.linear1(x))\n",
    "    x = self.linear2(x)\n",
    "    return x"
   ]
  },
  {
   "cell_type": "code",
   "execution_count": 10,
   "metadata": {},
   "outputs": [
    {
     "name": "stdout",
     "output_type": "stream",
     "text": [
      "<bound method Module.parameters of Network(\n",
      "  (leakyrelu): LeakyReLU(negative_slope=0.001)\n",
      "  (linear1): Linear(in_features=34, out_features=18, bias=True)\n",
      "  (linear2): Linear(in_features=18, out_features=3, bias=True)\n",
      ")>\n"
     ]
    }
   ],
   "source": [
    "clf = Network()\n",
    "print(clf.parameters)"
   ]
  },
  {
   "cell_type": "code",
   "execution_count": 11,
   "metadata": {},
   "outputs": [],
   "source": [
    "criterion = nn.CrossEntropyLoss() # most common loss criterion\n",
    "optimizer = torch.optim.SGD(clf.parameters(), lr=0.001, weight_decay=1e-5)"
   ]
  },
  {
   "cell_type": "code",
   "execution_count": 12,
   "metadata": {},
   "outputs": [],
   "source": [
    "# confusion matrix for evaluation - will be used later on\n",
    "def plot_confusion_matrix(matrix,title=\"\"): \n",
    "    #put the heatmap into the figure \n",
    "    sns.heatmap(data=matrix, annot=True, cmap=\"crest\")\n",
    "    status=[\"Drop-out\",\"Enrolled\",\"Graduate\"]\n",
    "    axis_ticks=np.arange(len(status))+0.4\n",
    "    \n",
    "    #sets x axis ticks to species names\n",
    "    plt.xticks(axis_ticks,status) \n",
    "    \n",
    "    #sets y axis ticks to species names \n",
    "    plt.yticks(axis_ticks,status) \n",
    "    plt.title(title)\n",
    "    plt.ylabel(\"Actual Label\")\n",
    "    plt.xlabel(\"Predicted Label\")"
   ]
  },
  {
   "cell_type": "markdown",
   "metadata": {},
   "source": [
    "### Initial Training"
   ]
  },
  {
   "cell_type": "code",
   "execution_count": 13,
   "metadata": {},
   "outputs": [
    {
     "name": "stdout",
     "output_type": "stream",
     "text": [
      "epoch: 0, loss: 67.66468435525894\n",
      "epoch: 100, loss: 36.6106193959713\n",
      "epoch: 200, loss: 34.971313148736954\n",
      "epoch: 300, loss: 34.49058112502098\n",
      "epoch: 400, loss: 33.76979050040245\n",
      "epoch: 500, loss: 33.35884028673172\n",
      "epoch: 600, loss: 33.12619283795357\n",
      "epoch: 700, loss: 32.6264962553978\n",
      "epoch: 800, loss: 32.350828886032104\n"
     ]
    }
   ],
   "source": [
    "epochs = 900 # determined by hand to be around the best performance with given hyperparameters\n",
    "loss_arr = [i for i in range(epochs)]\n",
    "for epoch in range(epochs):\n",
    "  running_loss = 0.0\n",
    "  for i, data in enumerate(trainloader, 0):\n",
    "    inputs, labels = data\n",
    "    optimizer.zero_grad() # set optimizer to zero grad to remove previous epoch gradients\n",
    "    outputs = clf(inputs) # forward propagation\n",
    "    loss = criterion(outputs, labels)\n",
    "    loss.backward() # backward propagation\n",
    "    optimizer.step() # optimize\n",
    "    running_loss += loss.item()\n",
    "  # display statistics\n",
    "  if epoch % 100 == 0:\n",
    "    print(f'epoch: {epoch}, loss: {running_loss}')\n",
    "  loss_arr[epoch] = running_loss"
   ]
  },
  {
   "cell_type": "code",
   "execution_count": 14,
   "metadata": {},
   "outputs": [
    {
     "data": {
      "text/plain": [
       "Text(0.5, 1.0, 'SGD, batch size = 50')"
      ]
     },
     "execution_count": 14,
     "metadata": {},
     "output_type": "execute_result"
    },
    {
     "data": {
      "image/png": "[encoded data removed]",
      "text/plain": [
       "<Figure size 640x480 with 1 Axes>"
      ]
     },
     "metadata": {},
     "output_type": "display_data"
    }
   ],
   "source": [
    "plt.plot(loss_arr)\n",
    "plt.xlabel(\"epoch\")\n",
    "plt.ylabel(\"running loss\")\n",
    "plt.title(f\"SGD, batch size = {batch_size}\")"
   ]
  },
  {
   "cell_type": "markdown",
   "metadata": {},
   "source": [
    "### Testing"
   ]
  },
  {
   "cell_type": "code",
   "execution_count": 15,
   "metadata": {},
   "outputs": [],
   "source": [
    "testdata = Data(X_test_np, y_test_np)\n",
    "outputs = clf(testdata.X)\n",
    "__, predicted = torch.max(outputs, 1)"
   ]
  },
  {
   "cell_type": "code",
   "execution_count": 16,
   "metadata": {},
   "outputs": [
    {
     "name": "stdout",
     "output_type": "stream",
     "text": [
      "0.739041095890411\n"
     ]
    }
   ],
   "source": [
    "print(accuracy_score(predicted,testdata.y))"
   ]
  },
  {
   "cell_type": "markdown",
   "metadata": {},
   "source": [
    "The random accuracy will be around 1/3 since there are 1/3 options uniformly distributed. Experimental validation here."
   ]
  },
  {
   "cell_type": "code",
   "execution_count": 17,
   "metadata": {},
   "outputs": [
    {
     "name": "stdout",
     "output_type": "stream",
     "text": [
      "0.3404109589041096\n"
     ]
    }
   ],
   "source": [
    "rand_predictions = np.random.randint(0,3,size=testdata.len)\n",
    "print(accuracy_score(rand_predictions,testdata.y))"
   ]
  },
  {
   "cell_type": "markdown",
   "metadata": {},
   "source": [
    "### Other Neural Network Parameters\n",
    "\n",
    "While the torch neural network shows how the multi-layer perceptron is handled, this can be done more easily with scikitlearn's MLPClassifier. Since all this is done on a set of smaller tabular data, large processing is not needed so a cpu can handle computations pretty fast. The question we're asking here is if certain hyperparameters can reliably improve the performance of this network. In other words, how good of a prediction can we get simply by tuning this neural network?"
   ]
  },
  {
   "cell_type": "code",
   "execution_count": 18,
   "metadata": {},
   "outputs": [
    {
     "data": {
      "text/plain": [
       "34"
      ]
     },
     "execution_count": 18,
     "metadata": {},
     "output_type": "execute_result"
    }
   ],
   "source": [
    "len(X_train.columns)"
   ]
  },
  {
   "cell_type": "code",
   "execution_count": 19,
   "metadata": {},
   "outputs": [
    {
     "data": {
      "text/plain": [
       "MLPClassifier(alpha=0.001, early_stopping=True, epsilon=1e-06,\n",
       "              hidden_layer_sizes=(24, 16), learning_rate_init=0.01,\n",
       "              max_iter=1000, random_state=69)"
      ]
     },
     "execution_count": 19,
     "metadata": {},
     "output_type": "execute_result"
    }
   ],
   "source": [
    "# CNN\n",
    "nn = MLPClassifier(hidden_layer_sizes = (24,16),\n",
    "                   activation = \"relu\", # Activation function for the hidden layer.\n",
    "                   solver='adam',\n",
    "                   alpha = 0.001, # Strength of the L2 regularization term.\n",
    "                   batch_size = 'auto',# Size of minibatches for stochastic optimizers.\n",
    "                   learning_rate_init = 0.01, \n",
    "                   epsilon =1e-6,\n",
    "                   max_iter = 1000,\n",
    "                   shuffle = True,# shuffle samples in each iteration\n",
    "                   early_stopping = True,\n",
    "                   random_state=69,\n",
    "                   verbose = False) # Allows to print progress messages to stdout.\n",
    "\n",
    "nn.fit(X_train.values, y_train.values)"
   ]
  },
  {
   "cell_type": "code",
   "execution_count": 20,
   "metadata": {},
   "outputs": [
    {
     "name": "stdout",
     "output_type": "stream",
     "text": [
      "training score: 0.7874493927125507\n",
      "testing score: 0.7438356164383562\n"
     ]
    }
   ],
   "source": [
    "print(f\"training score: {nn.score(X_train.values,y_train.values)}\")\n",
    "print(f\"testing score: {nn.score(X_test.values,y_test.values)}\")"
   ]
  },
  {
   "cell_type": "code",
   "execution_count": 21,
   "metadata": {},
   "outputs": [
    {
     "name": "stderr",
     "output_type": "stream",
     "text": [
      "/Users/wonjoonchoi/opt/anaconda3/lib/python3.9/site-packages/sklearn/base.py:443: UserWarning: X has feature names, but MLPClassifier was fitted without feature names\n",
      "  warnings.warn(\n"
     ]
    },
    {
     "data": {
      "image/png": "[encoded data removed]",
      "text/plain": [
       "<Figure size 640x480 with 2 Axes>"
      ]
     },
     "metadata": {},
     "output_type": "display_data"
    }
   ],
   "source": [
    "y_train_pred = nn.predict(X_test)\n",
    "cnn_matrix = confusion_matrix(y_test,y_train_pred)\n",
    "plot_confusion_matrix(cnn_matrix, title=\"MLP Confusion Matrix\")"
   ]
  },
  {
   "cell_type": "markdown",
   "metadata": {},
   "source": [
    "After much tuning, the MLP classifier consistently stays around 0.75 for testing score so parameters will not be varied much anymore. A grid search will not be shown since some parameters are dependant on each other.\n",
    "\n",
    "Some interesting parameters to note:\n",
    "1. Hidden Layer Sizes: A lot of variations have been performed but without much effect. As overfitting is expected to happen when there are more nodes in hidden layers than the input layer, the hidden layer sizes are kept in between the input and output layer. Depth has also been experimented on widely, showing little effect on the accuracy of the network. Therefore it the parameter will be kept at 2 layers with 24 then 16 nodes for the sake of it.\n",
    "1. Activation: ReLU and identity seem to perform the best, despite being complete opposites in terms of complexity. The other tanh and sigmoid functions drop off in performance, which is expected compared to relu but not identity.\n",
    "1. Early Stopping: Without early stopping, the testing score can decrease by 2-3% either due to under or overfitting. Setting a high maximum iteration and early stopping parameter is good for getting the optimal parameter as the function looks for when the gradient stops dropping.\n"
   ]
  },
  {
   "cell_type": "markdown",
   "metadata": {},
   "source": [
    "### Other Machine Learning Approaches\n",
    "\n",
    "Although these neural network results are good, they're still not very reliable predictors. The question can be futher generalized - is the reliablity of this a result of the type of model we're using? We can simply compare this neural network to other machine learning models to see how they stack up against each other."
   ]
  },
  {
   "cell_type": "markdown",
   "metadata": {},
   "source": [
    "#### Random Forest approach\n",
    "\n",
    "Data science provides a plethora of classification algorithms such as logistic regression, support vector machine, naive Bayes classifier, and decision trees. \n",
    "\n",
    "But near the top of the classifier hierarchy is the random forest classifier. And we will start investigating with it first. \n",
    "\n",
    "In order to build RF model, we must find the ideal deapth first"
   ]
  },
  {
   "cell_type": "code",
   "execution_count": 22,
   "metadata": {},
   "outputs": [],
   "source": [
    "# Finds best depth for Random Forest Classifier\n",
    "def find_best_depth(model): \n",
    "    # Max Depth iteration\n",
    "    N = 30\n",
    "    # set initial list length of N\n",
    "    scores = np.zeros(N)\n",
    "    best_score = -np.inf\n",
    "    for d in range(1,N+1):\n",
    "                # set model with random state\n",
    "        ref = model(max_depth=d,random_state=1111)\n",
    "        # calculate score\n",
    "        scores[d-1] = cross_val_score(ref,X_train,y_train,cv=5).mean() \n",
    "        if scores[d-1] >best_score:\n",
    "                # update best_score and best_depth\n",
    "                best_score=scores[d-1]\n",
    "                best_depth = d\n",
    "        # plot scatter plot\n",
    "    fig, ax = plt.subplots(1) \n",
    "    ax.scatter(np.arange(1,N+1),scores)\n",
    "    ax.set(title=\"Best Depth: \" + str(best_depth)) \n",
    "    return best_depth"
   ]
  },
  {
   "cell_type": "code",
   "execution_count": 23,
   "metadata": {},
   "outputs": [
    {
     "data": {
      "image/png": "[encoded data removed]",
      "text/plain": [
       "<Figure size 640x480 with 1 Axes>"
      ]
     },
     "metadata": {},
     "output_type": "display_data"
    }
   ],
   "source": [
    "best_depth = find_best_depth(RandomForestClassifier)"
   ]
  },
  {
   "cell_type": "code",
   "execution_count": 24,
   "metadata": {},
   "outputs": [
    {
     "data": {
      "text/plain": [
       "RandomForestClassifier(max_depth=16, random_state=1111)"
      ]
     },
     "execution_count": 24,
     "metadata": {},
     "output_type": "execute_result"
    }
   ],
   "source": [
    "RF = RandomForestClassifier(max_depth=best_depth,random_state=1111)\n",
    "RF.fit(X_train.values,y_train.values)"
   ]
  },
  {
   "cell_type": "code",
   "execution_count": 25,
   "metadata": {
    "scrolled": false
   },
   "outputs": [
    {
     "data": {
      "text/plain": [
       "0.773972602739726"
      ]
     },
     "execution_count": 25,
     "metadata": {},
     "output_type": "execute_result"
    }
   ],
   "source": [
    "RF.score(X_test.values,y_test.values)"
   ]
  },
  {
   "cell_type": "markdown",
   "metadata": {},
   "source": [
    "We actually get a decent score, better than what we saw in NN\n",
    "\n",
    "Lets Visualize what the model looks like"
   ]
  },
  {
   "cell_type": "code",
   "execution_count": null,
   "metadata": {},
   "outputs": [],
   "source": [
    "import matplotlib.pyplot as plt\n",
    "from sklearn.tree import plot_tree\n",
    "\n",
    "\n",
    "plot_tree(RF.estimators_[0], \n",
    "          feature_names= X_test.columns,\n",
    "          class_names=[\"Drop out\",\"Enrolled\",\"Graduate\"], \n",
    "          filled=True, impurity=True, \n",
    "          rounded=True)\n",
    "plt.show()"
   ]
  },
  {
   "cell_type": "code",
   "execution_count": null,
   "metadata": {},
   "outputs": [],
   "source": [
    "y_train_pred = RF.predict(X_test.values)\n",
    "RF_matrix = confusion_matrix(y_test.values,y_train_pred)\n",
    "plot_confusion_matrix(RF_matrix, title=\"Random Forest Confusion Matrix\")"
   ]
  },
  {
   "cell_type": "markdown",
   "metadata": {},
   "source": [
    "### Support Vector Machine approach"
   ]
  },
  {
   "cell_type": "code",
   "execution_count": null,
   "metadata": {},
   "outputs": [],
   "source": [
    "svm = SVC(kernel='linear')\n",
    "svm.fit(X_train.values,y_train.values)\n",
    "svm.score(X_test.values,y_test.values)"
   ]
  },
  {
   "cell_type": "code",
   "execution_count": null,
   "metadata": {},
   "outputs": [],
   "source": [
    "### IN PROGRESS - NEED TO WRITE MORE ABOUT THIS\n",
    "y_train_pred = svm.predict(X_test)\n",
    "svm_matrix = confusion_matrix(y_test,y_train_pred)\n",
    "plot_confusion_matrix(svm_matrix, title=\"SVM Confusion Matrix\")"
   ]
  },
  {
   "cell_type": "markdown",
   "metadata": {},
   "source": [
    "It seems like all these results give around the same ~77% accuracy range, though the non-neural network methods perform slightly bettter than the neural network. This could be due to the auto parameter tuning within these models which simply returns the best hyperparameter results. But since both the non-neural network models perform around the same as the neural network model, the question of opimization can be pushed further back - is there something intrinsic about the data that plays a role in our accuracy?"
   ]
  },
  {
   "cell_type": "markdown",
   "metadata": {},
   "source": [
    "### Data Processing Revisited - Feature Selection and Pre-Processing\n",
    "Now that we're back at the beginning, there are some questions we can address:\n",
    "1. How are we treating the categorical data?\n",
    "1. Are there variables that play higher roles than other (feature selection)?\n",
    "1. How can we standardize the data?\n",
    "\n",
    "Perhaps some of these play a role, perhaps none do. So we can try to play around with to see what happens. Since this project is in terms of neural networks, MLPClassifier will be used to evaluate all these parameter changes. However, the input size changes across different test cases. Since hidden layer sizes depend on the input parameters, SVC will also be employed as a standard benchmark for performance changes due to data processing."
   ]
  },
  {
   "cell_type": "markdown",
   "metadata": {},
   "source": [
    "#### Categorical Feature Processing - One Hot Encoding\n",
    "\n",
    "It's strange to treat categorical values like 1,2,3,4 as actual numbers. When the math is done on them, they would bias towards a certain set of values away from the edges, which isn't how categories are meant to be treated. So the idea is to vectorize them such that each variable becomes a vector of binary states. One Hot Encoding does this."
   ]
  },
  {
   "cell_type": "code",
   "execution_count": null,
   "metadata": {},
   "outputs": [],
   "source": [
    "features"
   ]
  },
  {
   "cell_type": "code",
   "execution_count": null,
   "metadata": {},
   "outputs": [],
   "source": [
    "categorical_labels = ['Marital status', 'Application mode', 'Application order', 'Course',\n",
    "       'Daytime/evening attendance', 'Nationality',\n",
    "       'Mother\\'s occupation', 'Father\\'s occupation', 'Displaced',\n",
    "       'Educational special needs', 'Debtor', 'Tuition fees up to date',\n",
    "       'Gender', 'Scholarship holder']\n",
    "\n",
    "one_hot = pd.get_dummies(features,columns=categorical_labels)\n",
    "one_hot.columns\n",
    "X_train, X_test, y_train, y_test = train_test_split(\n",
    "  one_hot, target, test_size=0.33)"
   ]
  },
  {
   "cell_type": "code",
   "execution_count": null,
   "metadata": {},
   "outputs": [],
   "source": [
    "nn = MLPClassifier(hidden_layer_sizes = (164,128,96),\n",
    "                   activation = \"relu\", # Activation function for the hidden layer.\n",
    "                   alpha = 0.001, # Strength of the L2 regularization term.\n",
    "                   batch_size = 'auto',# Size of minibatches for stochastic optimizers.\n",
    "                   learning_rate_init = 0.01, \n",
    "                   epsilon =1e-6,\n",
    "                   max_iter = 1000,\n",
    "                   shuffle = True,# shuffle samples in each iteration\n",
    "                   early_stopping = True,\n",
    "                   random_state=69,\n",
    "                   verbose = False) # Allows to print progress messages to stdout.\n",
    "\n",
    "nn.fit(X_train.values, y_train.values)\n",
    "print(f\"training score: {nn.score(X_train.values,y_train.values)}\")\n",
    "print(f\"testing score: {nn.score(X_test.values,y_test.values)}\")"
   ]
  },
  {
   "cell_type": "code",
   "execution_count": null,
   "metadata": {},
   "outputs": [],
   "source": [
    "clf = SVC(kernel='linear')\n",
    "clf.fit(X_train.values,y_train.values)\n",
    "clf.score(X_test.values,y_test.values)"
   ]
  },
  {
   "cell_type": "markdown",
   "metadata": {},
   "source": [
    "#### Feature Selection\n",
    "\n",
    "This might not be a issue in the moment, but splitting to so many columns may introduce unrelated noise, so removing columns may help. This is where feature selection comes in: either the mutual information of each column is correlated to test the impact of variables on a target or a decision tree is used to test the impact of vaeriables on a target. Just to clarify, feature selection is not exclusively PCA. PCA only looks at features - the methods used here also look at the target."
   ]
  },
  {
   "cell_type": "code",
   "execution_count": null,
   "metadata": {},
   "outputs": [],
   "source": [
    "# feature selection\n",
    "def select_features(features, target, num_features = 5, run_type = 0):\n",
    "    plt.rcParams.update({'font.size': 5})\n",
    "    if run_type == 0:\n",
    "        importance = mutual_info_classif(features,target)\n",
    "        ft_imp = pd.Series(importance, index=features.columns)\n",
    "        title = \"Mutual Info Importance\"\n",
    "    elif run_type == 1:\n",
    "        model = ExtraTreesClassifier()\n",
    "        model.fit(features,target)\n",
    "        ft_imp = pd.Series(model.feature_importances_, index=features.columns)\n",
    "        title = \"Extra Trees Classifier Importance\"\n",
    "\n",
    "    \n",
    "    largest = ft_imp.nlargest(num_features).index\n",
    "    ft_imp.nlargest(num_features).plot(kind=\"barh\")\n",
    "    plt.title(title)\n",
    "    plt.tight_layout()\n",
    "    plt.show()\n",
    "\n",
    "    return largest"
   ]
  },
  {
   "cell_type": "code",
   "execution_count": null,
   "metadata": {},
   "outputs": [],
   "source": [
    "largest = select_features(one_hot, target, 50, 0)"
   ]
  },
  {
   "cell_type": "code",
   "execution_count": null,
   "metadata": {},
   "outputs": [],
   "source": [
    "categorical_labels_filter = list(set(categorical_labels).intersection(largest))\n",
    "X_train, X_test, y_train, y_test = train_test_split(\n",
    "  one_hot[largest], target, test_size=0.33)"
   ]
  },
  {
   "cell_type": "code",
   "execution_count": null,
   "metadata": {},
   "outputs": [],
   "source": [
    "nn = MLPClassifier(hidden_layer_sizes = (50,40),\n",
    "                   activation = \"relu\", # Activation function for the hidden layer.\n",
    "                   alpha = 0.001, # Strength of the L2 regularization term.\n",
    "                   batch_size = 'auto',# Size of minibatches for stochastic optimizers.\n",
    "                   learning_rate_init = 0.01, \n",
    "                   epsilon =1e-6,\n",
    "                   max_iter = 1000,\n",
    "                   shuffle = True,# shuffle samples in each iteration\n",
    "                   early_stopping = True,\n",
    "                   random_state=69,\n",
    "                   verbose = False) # Allows to print progress messages to stdout.\n",
    "\n",
    "nn.fit(X_train.values, y_train.values)\n",
    "print(f\"training score: {nn.score(X_train.values,y_train.values)}\")\n",
    "print(f\"testing score: {nn.score(X_test.values,y_test.values)}\")"
   ]
  },
  {
   "cell_type": "code",
   "execution_count": null,
   "metadata": {},
   "outputs": [],
   "source": [
    "clf = SVC(kernel='linear')\n",
    "clf.fit(X_train.values,y_train.values)\n",
    "clf.score(X_test.values,y_test.values)"
   ]
  },
  {
   "cell_type": "code",
   "execution_count": null,
   "metadata": {},
   "outputs": [],
   "source": [
    "largest = select_features(one_hot, target, 50, 1)\n",
    "categorical_labels_filter = list(set(categorical_labels).intersection(largest))\n",
    "X_train, X_test, y_train, y_test = train_test_split(\n",
    "  one_hot[largest], target, test_size=0.33)"
   ]
  },
  {
   "cell_type": "code",
   "execution_count": null,
   "metadata": {},
   "outputs": [],
   "source": [
    "nn.fit(X_train.values, y_train.values)\n",
    "print(f\"training score: {nn.score(X_train.values,y_train.values)}\")\n",
    "print(f\"testing score: {nn.score(X_test.values,y_test.values)}\")"
   ]
  },
  {
   "cell_type": "code",
   "execution_count": null,
   "metadata": {},
   "outputs": [],
   "source": [
    "clf = SVC(kernel='linear')\n",
    "clf.fit(X_train.values,y_train.values)\n",
    "clf.score(X_test.values,y_test.values)"
   ]
  },
  {
   "cell_type": "markdown",
   "metadata": {},
   "source": [
    "#### Data Standardization\n",
    "\n",
    "Each feature has a set of values on a range of scales. The issue with this is that some scales might be so large that the matrix math being done during training might skew the results towards certain features. In order to combat this, standardization is employed in which every feature is somehow shifted to a state that doesn't bias one or the other. The technique used below is StandardScaler which centers all the features at 0 and sets the standard deviation to 1."
   ]
  },
  {
   "cell_type": "code",
   "execution_count": null,
   "metadata": {},
   "outputs": [],
   "source": [
    "scaler = preprocessing.StandardScaler()\n",
    "scaled_one_hot = one_hot.copy()\n",
    "scale_features = features.columns.difference(categorical_labels)\n",
    "for feature in scale_features:\n",
    "    df_scaled = scaler.fit_transform(one_hot[feature].to_numpy().reshape(-1,1))\n",
    "    scaled_one_hot[feature] = df_scaled\n",
    "    \n",
    "scaled_one_hot"
   ]
  },
  {
   "cell_type": "code",
   "execution_count": null,
   "metadata": {},
   "outputs": [],
   "source": [
    "X_train, X_test, y_train, y_test = train_test_split(\n",
    "  scaled_one_hot[largest], target, test_size=0.33)\n",
    "\n",
    "nn = MLPClassifier(hidden_layer_sizes = (36,30,28),\n",
    "                   activation = \"relu\", # Activation function for the hidden layer.\n",
    "                \n",
    "                   alpha = 0.001, # Strength of the L2 regularization term.\n",
    "                   batch_size = 'auto',# Size of minibatches for stochastic optimizers.\n",
    "                   learning_rate_init = 0.01, \n",
    "                   epsilon =1e-6,\n",
    "                   max_iter = 1000,\n",
    "                   shuffle = True,# shuffle samples in each iteration\n",
    "                   early_stopping = True,\n",
    "                   random_state=69,\n",
    "                   verbose = False) # Allows to print progress messages to stdout.\n",
    "\n",
    "nn.fit(X_train.values, y_train.values)\n",
    "print(f\"training score: {nn.score(X_train.values,y_train.values)}\")\n",
    "print(f\"testing score: {nn.score(X_test.values,y_test.values)}\")"
   ]
  },
  {
   "cell_type": "code",
   "execution_count": null,
   "metadata": {},
   "outputs": [],
   "source": [
    "clf = SVC(kernel='linear')\n",
    "clf.fit(X_train.values,y_train.values)\n",
    "clf.score(X_test.values,y_test.values)"
   ]
  },
  {
   "cell_type": "markdown",
   "metadata": {},
   "source": [
    "Given these preprocessing changes, the performance of the neural network has risen by a good 3 percent than how it initially started. This is not largest difference, but it shows how tuning the general features that enter a neural network can improve its reliability."
   ]
  },
  {
   "cell_type": "markdown",
   "metadata": {},
   "source": [
    "With our results, we can identify to a good degree the students that might be at risk of dropping out of school from other information about them. Knowing the early warning signs can allow us to allocate resources or attention towards those in need."
   ]
  }
 ],
 "metadata": {
  "colab": {
   "provenance": []
  },
  "kernelspec": {
   "display_name": "Python 3 (ipykernel)",
   "language": "python",
   "name": "python3"
  },
  "language_info": {
   "codemirror_mode": {
    "name": "ipython",
    "version": 3
   },
   "file_extension": ".py",
   "mimetype": "text/x-python",
   "name": "python",
   "nbconvert_exporter": "python",
   "pygments_lexer": "ipython3",
   "version": "3.9.13"
  }
 },
 "nbformat": 4,
 "nbformat_minor": 1
}
